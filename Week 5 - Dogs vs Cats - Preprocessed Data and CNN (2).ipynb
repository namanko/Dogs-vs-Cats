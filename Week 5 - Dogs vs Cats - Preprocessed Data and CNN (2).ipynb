{
 "cells": [
  {
   "cell_type": "code",
   "execution_count": 1,
   "metadata": {},
   "outputs": [],
   "source": [
    "import os, cv2, re, random\n",
    "import numpy as np\n",
    "import pandas as pd\n",
    "from keras.preprocessing.image import ImageDataGenerator\n",
    "from keras.preprocessing.image import img_to_array, load_img\n",
    "from keras import layers, models, optimizers\n",
    "from keras import backend as K\n",
    "from sklearn.model_selection import train_test_split\n"
   ]
  },
  {
   "cell_type": "code",
   "execution_count": 2,
   "metadata": {},
   "outputs": [],
   "source": [
    "TRAIN_DIR = r'C:/Users/Prashant/Desktop/train/train/'\n",
    "TEST_DIR = r'C:/Users/Prashant/Desktop/test1/test1/'\n",
    "\n",
    "ROWS = 150\n",
    "COLS = 150\n",
    "CHANNELS = 3\n"
   ]
  },
  {
   "cell_type": "code",
   "execution_count": 3,
   "metadata": {},
   "outputs": [],
   "source": [
    "train_images_dogs_cats = [TRAIN_DIR+i for i in os.listdir(TRAIN_DIR)]\n",
    "\n",
    "train_dogs =   [TRAIN_DIR+i for i in os.listdir(TRAIN_DIR) if 'dog' in i]\n",
    "train_cats =   [TRAIN_DIR+i for i in os.listdir(TRAIN_DIR) if 'cat' in i]\n",
    "\n",
    "test_images_dogs_cats = [TEST_DIR+i for i in os.listdir(TEST_DIR)]\n",
    "\n",
    "original_train_images = train_dogs[:12000] + train_cats[:12000]\n",
    "random.shuffle(original_train_images)\n",
    "\n",
    "train_images = original_train_images[:18000]\n",
    "val_images = original_train_images[22000:]"
   ]
  },
  {
   "cell_type": "code",
   "execution_count": 4,
   "metadata": {},
   "outputs": [
    {
     "data": {
      "text/plain": [
       "2000"
      ]
     },
     "execution_count": 4,
     "metadata": {},
     "output_type": "execute_result"
    }
   ],
   "source": [
    "len(val_images)\n"
   ]
  },
  {
   "cell_type": "code",
   "execution_count": 5,
   "metadata": {},
   "outputs": [],
   "source": [
    "def prepare_data(images):\n",
    "    count = len(images)\n",
    "    X = np.ndarray((count, ROWS, COLS, CHANNELS), dtype=np.float32)\n",
    "    Y = np.zeros((count,), dtype=np.float32)\n",
    "    \n",
    "    for i, image_file in enumerate(images):\n",
    "        img = load_img(image_file, target_size=(ROWS, COLS))\n",
    "        X[i] = img_to_array(img)\n",
    "        if 'dog' in image_file:\n",
    "            Y[i] = 1.\n",
    "        else:\n",
    "            Y[i]= 0\n",
    "        if i%1000 == 0: print('Processed {} of {}'.format(i, count))\n",
    "    \n",
    "    return X, Y\n",
    "\n"
   ]
  },
  {
   "cell_type": "code",
   "execution_count": 6,
   "metadata": {},
   "outputs": [
    {
     "name": "stdout",
     "output_type": "stream",
     "text": [
      "Processed 0 of 18000\n",
      "Processed 1000 of 18000\n",
      "Processed 2000 of 18000\n",
      "Processed 3000 of 18000\n",
      "Processed 4000 of 18000\n",
      "Processed 5000 of 18000\n",
      "Processed 6000 of 18000\n",
      "Processed 7000 of 18000\n",
      "Processed 8000 of 18000\n",
      "Processed 9000 of 18000\n",
      "Processed 10000 of 18000\n",
      "Processed 11000 of 18000\n",
      "Processed 12000 of 18000\n",
      "Processed 13000 of 18000\n",
      "Processed 14000 of 18000\n",
      "Processed 15000 of 18000\n",
      "Processed 16000 of 18000\n",
      "Processed 17000 of 18000\n"
     ]
    }
   ],
   "source": [
    "X_train, Y_train = prepare_data(train_images)\n",
    "\n",
    "\n"
   ]
  },
  {
   "cell_type": "code",
   "execution_count": 7,
   "metadata": {},
   "outputs": [
    {
     "name": "stdout",
     "output_type": "stream",
     "text": [
      "Processed 0 of 2000\n",
      "Processed 1000 of 2000\n"
     ]
    }
   ],
   "source": [
    "X_val, Y_val = prepare_data(val_images)\n"
   ]
  },
  {
   "cell_type": "code",
   "execution_count": 8,
   "metadata": {},
   "outputs": [],
   "source": [
    "train_datagen = ImageDataGenerator(\n",
    "    rescale=1./255,    \n",
    "    shear_range=0.2,\n",
    "    zoom_range=0.2,\n",
    "    horizontal_flip=True,)\n",
    "\n",
    "test_datagen = ImageDataGenerator(rescale=1./255)\n"
   ]
  },
  {
   "cell_type": "code",
   "execution_count": 13,
   "metadata": {},
   "outputs": [],
   "source": [
    "train_generator = train_datagen.flow(\n",
    "    X_train,\n",
    "    Y_train,\n",
    "    batch_size=32)\n",
    "\n",
    "test_generator = test_datagen.flow(\n",
    "    X_val,\n",
    "    Y_val,\n",
    "    batch_size=32)\n"
   ]
  },
  {
   "cell_type": "code",
   "execution_count": 14,
   "metadata": {},
   "outputs": [],
   "source": [
    "from tensorflow.python.keras.models import Sequential\n",
    "from tensorflow.python.keras.layers import Dense,Dropout,Flatten, Conv2D, MaxPool2D\n",
    "from keras.callbacks import EarlyStopping\n",
    "from keras.optimizers import Adam\n",
    "\n"
   ]
  },
  {
   "cell_type": "code",
   "execution_count": 15,
   "metadata": {},
   "outputs": [],
   "source": [
    "img_width, img_height = 150, 150\n",
    "\n",
    "\n",
    "model = Sequential()\n",
    "\n",
    "model.add(Conv2D(32, (3,3), input_shape=(ROWS, COLS, CHANNELS), activation='relu'))\n",
    "model.add(MaxPool2D(pool_size = (2,2)))\n",
    "\n",
    "model.add(Conv2D(64, (3,3), activation='relu'))\n",
    "model.add(MaxPool2D(pool_size = (2,2)))\n",
    "model.add(Dropout(0.4))\n",
    "\n",
    "model.add(Conv2D(128, (3,3), activation='relu'))\n",
    "model.add(MaxPool2D(pool_size = (2,2)))\n",
    "model.add(Dropout(0.4))\n",
    "\n",
    "model.add(Conv2D(256, (3,3), activation='relu'))\n",
    "model.add(MaxPool2D(pool_size = (2,2)))\n",
    "model.add(Dropout(0.4))\n",
    "\n",
    "model.add(Conv2D(512, (1,1), activation='relu'))\n",
    "model.add(MaxPool2D(pool_size = (2,2)))\n",
    "\n",
    "model.add(Flatten())\n",
    "model.add(Dropout(0.4))\n",
    "\n",
    "model.add(Dense(128, activation='relu'))\n",
    "model.add(Dense(1, activation='sigmoid'))\n",
    "\n",
    "model.compile(optimizer='adam', loss='binary_crossentropy', metrics=['accuracy'])\n"
   ]
  },
  {
   "cell_type": "code",
   "execution_count": 17,
   "metadata": {},
   "outputs": [
    {
     "name": "stdout",
     "output_type": "stream",
     "text": [
      "Epoch 1/30\n",
      "563/563 [==============================] - 1248s 2s/step - loss: 0.6925 - accuracy: 0.5113 - val_loss: 0.6903 - val_accuracy: 0.5685\n",
      "Epoch 2/30\n",
      "563/563 [==============================] - 1340s 2s/step - loss: 0.6869 - accuracy: 0.5412 - val_loss: 0.6862 - val_accuracy: 0.5550\n",
      "Epoch 3/30\n",
      "563/563 [==============================] - 1619s 3s/step - loss: 0.6783 - accuracy: 0.5737 - val_loss: 0.6746 - val_accuracy: 0.5870\n",
      "Epoch 4/30\n",
      "563/563 [==============================] - 1331s 2s/step - loss: 0.6372 - accuracy: 0.6397 - val_loss: 0.5803 - val_accuracy: 0.7055\n",
      "Epoch 5/30\n",
      "563/563 [==============================] - 1160s 2s/step - loss: 0.5876 - accuracy: 0.6897 - val_loss: 0.5891 - val_accuracy: 0.6770\n",
      "Epoch 6/30\n",
      "563/563 [==============================] - 1532s 3s/step - loss: 0.5447 - accuracy: 0.7261 - val_loss: 0.4831 - val_accuracy: 0.7795\n",
      "Epoch 7/30\n",
      "563/563 [==============================] - 1508s 3s/step - loss: 0.5023 - accuracy: 0.7538 - val_loss: 0.4651 - val_accuracy: 0.7905\n",
      "Epoch 8/30\n",
      "563/563 [==============================] - 1392s 2s/step - loss: 0.4698 - accuracy: 0.7792 - val_loss: 0.4528 - val_accuracy: 0.7810\n",
      "Epoch 9/30\n",
      "563/563 [==============================] - 1515s 3s/step - loss: 0.4425 - accuracy: 0.7947 - val_loss: 0.3796 - val_accuracy: 0.8330\n",
      "Epoch 10/30\n",
      "563/563 [==============================] - 1386s 2s/step - loss: 0.4152 - accuracy: 0.8052 - val_loss: 0.3897 - val_accuracy: 0.8255\n",
      "Epoch 11/30\n",
      "563/563 [==============================] - 1264s 2s/step - loss: 0.3938 - accuracy: 0.8219 - val_loss: 0.3407 - val_accuracy: 0.8455\n",
      "Epoch 12/30\n",
      "563/563 [==============================] - 1519s 3s/step - loss: 0.3807 - accuracy: 0.8314 - val_loss: 0.3511 - val_accuracy: 0.8370\n",
      "Epoch 13/30\n",
      "563/563 [==============================] - 1395s 2s/step - loss: 0.3660 - accuracy: 0.8395 - val_loss: 0.3234 - val_accuracy: 0.8650\n",
      "Epoch 14/30\n",
      "563/563 [==============================] - 1058s 2s/step - loss: 0.3554 - accuracy: 0.8426 - val_loss: 0.3008 - val_accuracy: 0.8760\n",
      "Epoch 15/30\n",
      "563/563 [==============================] - 1074s 2s/step - loss: 0.3415 - accuracy: 0.8504 - val_loss: 0.3174 - val_accuracy: 0.8640\n",
      "Epoch 16/30\n",
      "563/563 [==============================] - 1025s 2s/step - loss: 0.3325 - accuracy: 0.8539 - val_loss: 0.2788 - val_accuracy: 0.8850\n",
      "Epoch 17/30\n",
      "563/563 [==============================] - 1008s 2s/step - loss: 0.3165 - accuracy: 0.8646 - val_loss: 0.2881 - val_accuracy: 0.8815\n",
      "Epoch 18/30\n",
      "563/563 [==============================] - 1022s 2s/step - loss: 0.3146 - accuracy: 0.8633 - val_loss: 0.2641 - val_accuracy: 0.8870\n",
      "Epoch 19/30\n",
      "563/563 [==============================] - 1039s 2s/step - loss: 0.3056 - accuracy: 0.8693 - val_loss: 0.2764 - val_accuracy: 0.8900\n",
      "Epoch 20/30\n",
      "563/563 [==============================] - 1069s 2s/step - loss: 0.2995 - accuracy: 0.8720 - val_loss: 0.2846 - val_accuracy: 0.8865\n",
      "Epoch 00020: early stopping\n"
     ]
    },
    {
     "data": {
      "text/plain": [
       "<tensorflow.python.keras.callbacks.History at 0x1dcee724908>"
      ]
     },
     "execution_count": 17,
     "metadata": {},
     "output_type": "execute_result"
    }
   ],
   "source": [
    "model.fit_generator(\n",
    "    train_generator,\n",
    "    epochs=30,\n",
    "    validation_data=test_generator,\n",
    "    callbacks=EarlyStopping(monitor='val_loss', mode='min',patience=2,verbose=1))"
   ]
  },
  {
   "cell_type": "code",
   "execution_count": 18,
   "metadata": {},
   "outputs": [
    {
     "name": "stdout",
     "output_type": "stream",
     "text": [
      "Processed 0 of 1000\n"
     ]
    }
   ],
   "source": [
    "evaluation_images = train_dogs[12000:12500] + train_cats[12000:12500]\n",
    "random.shuffle(evaluation_images)\n",
    "\n",
    "X_evaluation, y_evaluation = prepare_data(evaluation_images)\n",
    "X_evaluation /= 255\n"
   ]
  },
  {
   "cell_type": "code",
   "execution_count": 19,
   "metadata": {},
   "outputs": [
    {
     "name": "stdout",
     "output_type": "stream",
     "text": [
      "32/32 [==============================] - 11s 330ms/step - loss: 0.2757 - accuracy: 0.8930\n"
     ]
    }
   ],
   "source": [
    "evaluation = model.evaluate(X_evaluation, y_evaluation)\n"
   ]
  },
  {
   "cell_type": "code",
   "execution_count": 20,
   "metadata": {},
   "outputs": [
    {
     "data": {
      "text/plain": [
       "[0.2756955623626709, 0.8930000066757202]"
      ]
     },
     "execution_count": 20,
     "metadata": {},
     "output_type": "execute_result"
    }
   ],
   "source": [
    "evaluation"
   ]
  },
  {
   "cell_type": "code",
   "execution_count": 21,
   "metadata": {},
   "outputs": [
    {
     "name": "stdout",
     "output_type": "stream",
     "text": [
      "(18000, 150, 150, 3) (2000, 150, 150, 3)\n"
     ]
    }
   ],
   "source": [
    "print(X_train.shape,X_val.shape)\n"
   ]
  },
  {
   "cell_type": "code",
   "execution_count": 22,
   "metadata": {},
   "outputs": [
    {
     "data": {
      "text/plain": [
       "numpy.ndarray"
      ]
     },
     "execution_count": 22,
     "metadata": {},
     "output_type": "execute_result"
    }
   ],
   "source": [
    "type(Y_val)\n"
   ]
  },
  {
   "cell_type": "code",
   "execution_count": 23,
   "metadata": {},
   "outputs": [
    {
     "name": "stdout",
     "output_type": "stream",
     "text": [
      "WARNING:tensorflow:From C:\\Users\\Prashant\\anaconda3\\lib\\site-packages\\tensorflow\\python\\ops\\resource_variable_ops.py:1817: calling BaseResourceVariable.__init__ (from tensorflow.python.ops.resource_variable_ops) with constraint is deprecated and will be removed in a future version.\n",
      "Instructions for updating:\n",
      "If using Keras pass *_constraint arguments to layers.\n",
      "INFO:tensorflow:Assets written to: dogcat.model\\assets\n"
     ]
    }
   ],
   "source": [
    "import keras\n",
    "model.save('dogcat.model')"
   ]
  },
  {
   "cell_type": "code",
   "execution_count": 24,
   "metadata": {},
   "outputs": [
    {
     "name": "stdout",
     "output_type": "stream",
     "text": [
      "Processed 0 of 12500\n",
      "Processed 1000 of 12500\n",
      "Processed 2000 of 12500\n",
      "Processed 3000 of 12500\n",
      "Processed 4000 of 12500\n",
      "Processed 5000 of 12500\n",
      "Processed 6000 of 12500\n",
      "Processed 7000 of 12500\n",
      "Processed 8000 of 12500\n",
      "Processed 9000 of 12500\n",
      "Processed 10000 of 12500\n",
      "Processed 11000 of 12500\n",
      "Processed 12000 of 12500\n"
     ]
    }
   ],
   "source": [
    "X_test,_ = prepare_data(test_images_dogs_cats)\n",
    "X_test/= 255."
   ]
  },
  {
   "cell_type": "code",
   "execution_count": 111,
   "metadata": {},
   "outputs": [
    {
     "data": {
      "text/plain": [
       "array([[0.9465711 ],\n",
       "       [0.06986928],\n",
       "       [0.67779046],\n",
       "       ...,\n",
       "       [0.8095223 ],\n",
       "       [0.06008096],\n",
       "       [0.38172534]], dtype=float32)"
      ]
     },
     "execution_count": 111,
     "metadata": {},
     "output_type": "execute_result"
    }
   ],
   "source": [
    "import numpy as np\n",
    "import pandas as pd\n",
    "results = model.predict(X_test)\n",
    "results\n"
   ]
  },
  {
   "cell_type": "code",
   "execution_count": 112,
   "metadata": {},
   "outputs": [
    {
     "data": {
      "text/plain": [
       "array([[1.],\n",
       "       [0.],\n",
       "       [1.],\n",
       "       ...,\n",
       "       [1.],\n",
       "       [0.],\n",
       "       [0.]], dtype=float32)"
      ]
     },
     "execution_count": 112,
     "metadata": {},
     "output_type": "execute_result"
    }
   ],
   "source": [
    "results = np.round(results)\n",
    "results"
   ]
  },
  {
   "cell_type": "code",
   "execution_count": 115,
   "metadata": {},
   "outputs": [
    {
     "data": {
      "text/html": [
       "<div>\n",
       "<style scoped>\n",
       "    .dataframe tbody tr th:only-of-type {\n",
       "        vertical-align: middle;\n",
       "    }\n",
       "\n",
       "    .dataframe tbody tr th {\n",
       "        vertical-align: top;\n",
       "    }\n",
       "\n",
       "    .dataframe thead th {\n",
       "        text-align: right;\n",
       "    }\n",
       "</style>\n",
       "<table border=\"1\" class=\"dataframe\">\n",
       "  <thead>\n",
       "    <tr style=\"text-align: right;\">\n",
       "      <th></th>\n",
       "      <th>label</th>\n",
       "    </tr>\n",
       "  </thead>\n",
       "  <tbody>\n",
       "    <tr>\n",
       "      <th>0</th>\n",
       "      <td>1.0</td>\n",
       "    </tr>\n",
       "    <tr>\n",
       "      <th>1</th>\n",
       "      <td>0.0</td>\n",
       "    </tr>\n",
       "    <tr>\n",
       "      <th>2</th>\n",
       "      <td>1.0</td>\n",
       "    </tr>\n",
       "    <tr>\n",
       "      <th>3</th>\n",
       "      <td>1.0</td>\n",
       "    </tr>\n",
       "    <tr>\n",
       "      <th>4</th>\n",
       "      <td>1.0</td>\n",
       "    </tr>\n",
       "    <tr>\n",
       "      <th>...</th>\n",
       "      <td>...</td>\n",
       "    </tr>\n",
       "    <tr>\n",
       "      <th>12495</th>\n",
       "      <td>0.0</td>\n",
       "    </tr>\n",
       "    <tr>\n",
       "      <th>12496</th>\n",
       "      <td>1.0</td>\n",
       "    </tr>\n",
       "    <tr>\n",
       "      <th>12497</th>\n",
       "      <td>1.0</td>\n",
       "    </tr>\n",
       "    <tr>\n",
       "      <th>12498</th>\n",
       "      <td>0.0</td>\n",
       "    </tr>\n",
       "    <tr>\n",
       "      <th>12499</th>\n",
       "      <td>0.0</td>\n",
       "    </tr>\n",
       "  </tbody>\n",
       "</table>\n",
       "<p>12500 rows × 1 columns</p>\n",
       "</div>"
      ],
      "text/plain": [
       "       label\n",
       "0        1.0\n",
       "1        0.0\n",
       "2        1.0\n",
       "3        1.0\n",
       "4        1.0\n",
       "...      ...\n",
       "12495    0.0\n",
       "12496    1.0\n",
       "12497    1.0\n",
       "12498    0.0\n",
       "12499    0.0\n",
       "\n",
       "[12500 rows x 1 columns]"
      ]
     },
     "execution_count": 115,
     "metadata": {},
     "output_type": "execute_result"
    }
   ],
   "source": [
    "results = pd.DataFrame(results, columns =['label'])\n",
    "results"
   ]
  },
  {
   "cell_type": "code",
   "execution_count": 116,
   "metadata": {},
   "outputs": [],
   "source": [
    "submission = pd.concat([pd.Series(range(1,12501),name = \"id\"),results],axis = 1)\n"
   ]
  },
  {
   "cell_type": "code",
   "execution_count": 117,
   "metadata": {},
   "outputs": [
    {
     "data": {
      "text/html": [
       "<div>\n",
       "<style scoped>\n",
       "    .dataframe tbody tr th:only-of-type {\n",
       "        vertical-align: middle;\n",
       "    }\n",
       "\n",
       "    .dataframe tbody tr th {\n",
       "        vertical-align: top;\n",
       "    }\n",
       "\n",
       "    .dataframe thead th {\n",
       "        text-align: right;\n",
       "    }\n",
       "</style>\n",
       "<table border=\"1\" class=\"dataframe\">\n",
       "  <thead>\n",
       "    <tr style=\"text-align: right;\">\n",
       "      <th></th>\n",
       "      <th>id</th>\n",
       "      <th>label</th>\n",
       "    </tr>\n",
       "  </thead>\n",
       "  <tbody>\n",
       "    <tr>\n",
       "      <th>0</th>\n",
       "      <td>1</td>\n",
       "      <td>1.0</td>\n",
       "    </tr>\n",
       "    <tr>\n",
       "      <th>1</th>\n",
       "      <td>2</td>\n",
       "      <td>0.0</td>\n",
       "    </tr>\n",
       "    <tr>\n",
       "      <th>2</th>\n",
       "      <td>3</td>\n",
       "      <td>1.0</td>\n",
       "    </tr>\n",
       "    <tr>\n",
       "      <th>3</th>\n",
       "      <td>4</td>\n",
       "      <td>1.0</td>\n",
       "    </tr>\n",
       "    <tr>\n",
       "      <th>4</th>\n",
       "      <td>5</td>\n",
       "      <td>1.0</td>\n",
       "    </tr>\n",
       "    <tr>\n",
       "      <th>...</th>\n",
       "      <td>...</td>\n",
       "      <td>...</td>\n",
       "    </tr>\n",
       "    <tr>\n",
       "      <th>12495</th>\n",
       "      <td>12496</td>\n",
       "      <td>0.0</td>\n",
       "    </tr>\n",
       "    <tr>\n",
       "      <th>12496</th>\n",
       "      <td>12497</td>\n",
       "      <td>1.0</td>\n",
       "    </tr>\n",
       "    <tr>\n",
       "      <th>12497</th>\n",
       "      <td>12498</td>\n",
       "      <td>1.0</td>\n",
       "    </tr>\n",
       "    <tr>\n",
       "      <th>12498</th>\n",
       "      <td>12499</td>\n",
       "      <td>0.0</td>\n",
       "    </tr>\n",
       "    <tr>\n",
       "      <th>12499</th>\n",
       "      <td>12500</td>\n",
       "      <td>0.0</td>\n",
       "    </tr>\n",
       "  </tbody>\n",
       "</table>\n",
       "<p>12500 rows × 2 columns</p>\n",
       "</div>"
      ],
      "text/plain": [
       "          id  label\n",
       "0          1    1.0\n",
       "1          2    0.0\n",
       "2          3    1.0\n",
       "3          4    1.0\n",
       "4          5    1.0\n",
       "...      ...    ...\n",
       "12495  12496    0.0\n",
       "12496  12497    1.0\n",
       "12497  12498    1.0\n",
       "12498  12499    0.0\n",
       "12499  12500    0.0\n",
       "\n",
       "[12500 rows x 2 columns]"
      ]
     },
     "execution_count": 117,
     "metadata": {},
     "output_type": "execute_result"
    }
   ],
   "source": [
    "submission"
   ]
  },
  {
   "cell_type": "code",
   "execution_count": 118,
   "metadata": {},
   "outputs": [],
   "source": [
    "\n",
    "submission.to_csv(\"dogs-vs-cats-sub.csv\",index=False)\n",
    "\n",
    "\n"
   ]
  },
  {
   "cell_type": "code",
   "execution_count": null,
   "metadata": {},
   "outputs": [],
   "source": []
  }
 ],
 "metadata": {
  "kernelspec": {
   "display_name": "Python 3",
   "language": "python",
   "name": "python3"
  },
  "language_info": {
   "codemirror_mode": {
    "name": "ipython",
    "version": 3
   },
   "file_extension": ".py",
   "mimetype": "text/x-python",
   "name": "python",
   "nbconvert_exporter": "python",
   "pygments_lexer": "ipython3",
   "version": "3.7.6"
  }
 },
 "nbformat": 4,
 "nbformat_minor": 4
}
